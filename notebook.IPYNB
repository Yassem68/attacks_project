{
 "cells": [
  {
   "cell_type": "markdown",
   "metadata": {},
   "source": [
    "# Analysis of Detected DOS Attacks\n",
    "This notebook contains the analysis of data collected during the simulation and detection of Denial of Service (DOS) attacks. We will answer two questions:\n",
    "\n",
    "1. Where are the suspect IP addresses located?\n",
    "2. What is the most common attack?\n",
    "\n"
   ]
  },
  {
   "cell_type": "code",
   "execution_count": null,
   "metadata": {},
   "outputs": [
    {
     "ename": "",
     "evalue": "",
     "output_type": "error",
     "traceback": [
      "\u001b[1;31mRunning cells with '.venv (Python 3.11.6)' requires the ipykernel package.\n",
      "\u001b[1;31mRun the following command to install 'ipykernel' into the Python environment. \n",
      "\u001b[1;31mCommand: 'c:/Users/bumba/Documents/GitHub/attacks_project/.venv/Scripts/python.exe -m pip install ipykernel -U --force-reinstall'"
     ]
    }
   ],
   "source": [
    "import pandas as pd\n",
    "\n",
    "# Load the detected attacks from the CSV file\n",
    "df = pd.read_csv('detected_attacks.csv')\n",
    "\n",
    "# It shows us the firts rows of the file \"detected_attacks\" which contains the data\"\n",
    "df.head()\n",
    "\n"
   ]
  },
  {
   "cell_type": "code",
   "execution_count": null,
   "metadata": {},
   "outputs": [],
   "source": [
    "import requests\n",
    "\n",
    "# Function to get the location of an IP address\n",
    "def get_ip_location(ip):\n",
    "    try:\n",
    "        response = requests.get(f\"http://ip-api.com/json/{ip}\")\n",
    "        data = response.json()\n",
    "        return data['country'], data['lat'], data['lon']\n",
    "    except:\n",
    "        return \"Unknown\", None, None\n",
    "\n",
    "# We apply the function to all detected IP address\n",
    "df[['Location', 'lat', 'lon']] = df['Source IP'].apply(lambda ip: pd.Series(get_ip_location(ip)))\n",
    "\n",
    "# Display the results\n",
    "df[['Source IP', 'Location', 'lat', 'lon']].head()\n",
    "\n"
   ]
  },
  {
   "cell_type": "code",
   "execution_count": null,
   "metadata": {},
   "outputs": [],
   "source": [
    "import folium\n",
    "\n",
    "# Create a map centered around the average latitude and longitude\n",
    "map = folium.Map(location=[20, 0], zoom_start=2)\n",
    "\n",
    "# Add markers for each detected IP\n",
    "for index, row in df.iterrows():\n",
    "    if row['Location'] != \"Unknown\" and row['lat'] and row['lon']:\n",
    "        folium.Marker([row['lat'], row['lon']], popup=row['Source IP']).add_to(map)\n",
    "\n",
    "# Display the map\n",
    "map\n",
    "\n"
   ]
  },
  {
   "cell_type": "code",
   "execution_count": null,
   "metadata": {},
   "outputs": [],
   "source": [
    "import matplotlib.pyplot as plt\n",
    "\n",
    "# Count the occurrences of each type of attack\n",
    "attack_counts = df['Attack Type'].value_counts()\n",
    "\n",
    "# Display the most frequent attacks\n",
    "print(attack_counts)\n",
    "\n",
    "# Create a bar chart of the most frequent attacks\n",
    "attack_counts.plot(kind='bar')\n",
    "plt.title('Most Frequent Attack Types')\n",
    "plt.xlabel('Attack Type')\n",
    "plt.ylabel('Number of Occurrences')\n",
    "plt.show()\n",
    "\n"
   ]
  },
  {
   "cell_type": "code",
   "execution_count": null,
   "metadata": {},
   "outputs": [],
   "source": [
    "# Analysis of the most frequent countries for suspect IPs\n",
    "top_countries = df['Location'].value_counts().head(3).index.tolist()\n",
    "\n",
    "# Analysis of the most common type of attack\n",
    "most_common_attack = df['Attack Type'].value_counts().idxmax()\n",
    "\n",
    "# Generate dynamic conclusion\n",
    "conclusion = f\"\"\"\n",
    "## Dynamic Conclusion\n",
    "\n",
    "We have located suspect IP addresses mainly originating from the following countries: **{', '.join(top_countries)}**.\n",
    "\n",
    "The most common detected attack type is **{most_common_attack}**.\n",
    "\"\"\"\n",
    "\n",
    "# Display the conclusion\n",
    "from IPython.display import Markdown\n",
    "Markdown(conclusion)\n",
    "\n"
   ]
  },
  {
   "cell_type": "markdown",
   "metadata": {},
   "source": [
    "## Dynamic Conclusion\n",
    "\n",
    "We have located suspect IP addresses mainly originating from the following countries: **France, USA, Canada**.\n",
    "\n",
    "The most common detected attack type is **syn_ack**.\n"
   ]
  }
 ],
 "metadata": {
  "kernelspec": {
   "display_name": ".venv",
   "language": "python",
   "name": "python3"
  },
  "language_info": {
   "name": "python",
   "version": "3.11.6"
  }
 },
 "nbformat": 4,
 "nbformat_minor": 2
}
