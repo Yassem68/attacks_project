{
 "cells": [
  {
   "cell_type": "markdown",
   "metadata": {},
   "source": [
    "# Analyse des attaques DOS détectées\n",
    "Ce notebook contient l'analyse des données collectées lors de la simulation et de la détection d'attaques par déni de service (DOS). Nous allons répondre à deux questions :\n",
    "\n",
    "1. Où se trouvent les adresses IP suspectes ?\n",
    "2. Quelle est l'attaque la plus courante ?\n"
   ]
  },
  {
   "cell_type": "code",
   "execution_count": null,
   "metadata": {
    "vscode": {
     "languageId": "plaintext"
    }
   },
   "outputs": [],
   "source": [
    "import pandas as pd\n",
    "\n",
    "# Charger les attaques détectées depuis le fichier CSV\n",
    "df = pd.read_csv('detected_attacks.csv')\n",
    "\n",
    "# Afficher les premières lignes du fichier pour vérifier les données\n",
    "df.head()\n"
   ]
  },
  {
   "cell_type": "code",
   "execution_count": null,
   "metadata": {
    "vscode": {
     "languageId": "plaintext"
    }
   },
   "outputs": [],
   "source": [
    "import requests\n",
    "\n",
    "# Fonction pour obtenir la localisation d'une adresse IP\n",
    "def get_ip_location(ip):\n",
    "    try:\n",
    "        response = requests.get(f\"http://ip-api.com/json/{ip}\")\n",
    "        data = response.json()\n",
    "        return data['country'], data['lat'], data['lon']\n",
    "    except:\n",
    "        return \"Unknown\", None, None\n",
    "\n",
    "# Appliquer la fonction sur toutes les IP détectées\n",
    "df[['Location', 'lat', 'lon']] = df['Source IP'].apply(lambda ip: pd.Series(get_ip_location(ip)))\n",
    "\n",
    "# Afficher les résultats\n",
    "df[['Source IP', 'Location', 'lat', 'lon']].head()\n"
   ]
  },
  {
   "cell_type": "code",
   "execution_count": null,
   "metadata": {
    "vscode": {
     "languageId": "plaintext"
    }
   },
   "outputs": [],
   "source": [
    "import folium\n",
    "\n",
    "# Créer une carte centrée autour de la latitude et de la longitude moyenne\n",
    "map = folium.Map(location=[20, 0], zoom_start=2)\n",
    "\n",
    "# Ajouter des marqueurs pour chaque IP détectée\n",
    "for index, row in df.iterrows():\n",
    "    if row['Location'] != \"Unknown\" and row['lat'] and row['lon']:\n",
    "        folium.Marker([row['lat'], row['lon']], popup=row['Source IP']).add_to(map)\n",
    "\n",
    "# Afficher la carte\n",
    "map\n"
   ]
  },
  {
   "cell_type": "code",
   "execution_count": null,
   "metadata": {
    "vscode": {
     "languageId": "plaintext"
    }
   },
   "outputs": [],
   "source": [
    "import matplotlib.pyplot as plt\n",
    "\n",
    "# Compter les occurrences de chaque type d'attaque\n",
    "attack_counts = df['Attack Type'].value_counts()\n",
    "\n",
    "# Afficher les attaques les plus fréquentes\n",
    "print(attack_counts)\n",
    "\n",
    "# Créer un graphique des attaques les plus fréquentes\n",
    "attack_counts.plot(kind='bar')\n",
    "plt.title('Types d\\'attaques les plus fréquentes')\n",
    "plt.xlabel('Type d\\'attaque')\n",
    "plt.ylabel('Nombre d\\'occurrences')\n",
    "plt.show()\n"
   ]
  },
  {
   "cell_type": "code",
   "execution_count": null,
   "metadata": {
    "vscode": {
     "languageId": "plaintext"
    }
   },
   "outputs": [],
   "source": [
    "# Analyse des pays les plus fréquents pour les IP suspectes\n",
    "top_countries = df['Location'].value_counts().head(3).index.tolist()\n",
    "\n",
    "# Analyse du type d'attaque le plus fréquent\n",
    "most_common_attack = df['Attack Type'].value_counts().idxmax()\n",
    "\n",
    "# Générer la conclusion dynamique\n",
    "conclusion = f\"\"\"\n",
    "## Conclusion dynamique\n",
    "\n",
    "Nous avons localisé les adresses IP suspectes provenant principalement des pays suivants : **{', '.join(top_countries)}**.\n",
    "\n",
    "L'attaque la plus courante détectée est de type **{most_common_attack}**.\n",
    "\"\"\"\n",
    "\n",
    "# Afficher la conclusion\n",
    "from IPython.display import Markdown\n",
    "Markdown(conclusion)\n"
   ]
  },
  {
   "cell_type": "markdown",
   "metadata": {},
   "source": [
    "## Conclusion dynamique\n",
    "\n",
    "Nous avons localisé les adresses IP suspectes provenant principalement des pays suivants : **France, USA, Canada**.\n",
    "\n",
    "L'attaque la plus courante détectée est de type **syn_ack**.\n"
   ]
  }
 ],
 "metadata": {
  "language_info": {
   "name": "python"
  }
 },
 "nbformat": 4,
 "nbformat_minor": 2
}
