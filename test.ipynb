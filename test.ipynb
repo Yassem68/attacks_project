{
 "cells": [
  {
   "cell_type": "code",
   "execution_count": null,
   "metadata": {},
   "outputs": [
    {
     "ename": "",
     "evalue": "",
     "output_type": "error",
     "traceback": [
      "\u001b[1;31mRunning cells with '.venv (Python 3.11.6)' requires the ipykernel package.\n",
      "\u001b[1;31mRun the following command to install 'ipykernel' into the Python environment. \n",
      "\u001b[1;31mCommand: 'c:/Users/bumba/Documents/GitHub/attacks_project/.venv/Scripts/python.exe -m pip install ipykernel -U --force-reinstall'"
     ]
    }
   ],
   "source": [
    "# Import necessary libraries\n",
    "import pandas as pd\n",
    "\n",
    "# Path to the CSV file\n",
    "csv_file = 'attack_log.csv'\n",
    "\n",
    "# Read the CSV file into a DataFrame\n",
    "try:\n",
    "    df = pd.read_csv(csv_file)\n",
    "    print(\"CSV file loaded successfully.\")\n",
    "except FileNotFoundError:\n",
    "    print(f\"The file {csv_file} was not found. Please make sure the file exists.\")\n",
    "\n",
    "# Display the first few rows of the DataFrame\n",
    "df.head()\n",
    "\n",
    "# Display basic information about the data\n",
    "df.info()\n",
    "\n",
    "# Show a summary of the numerical columns (if any)\n",
    "df.describe()\n",
    "\n",
    "# Plotting the number of attacks by type\n",
    "attack_counts = df.groupby('attack_type').size()\n",
    "\n",
    "# Plot the attack counts\n",
    "attack_counts.plot(kind='bar', title='Number of Attacks by Type')\n"
   ]
  },
  {
   "cell_type": "code",
   "execution_count": null,
   "metadata": {},
   "outputs": [],
   "source": []
  }
 ],
 "metadata": {
  "kernelspec": {
   "display_name": ".venv",
   "language": "python",
   "name": "python3"
  },
  "language_info": {
   "name": "python",
   "version": "3.11.6"
  }
 },
 "nbformat": 4,
 "nbformat_minor": 2
}
